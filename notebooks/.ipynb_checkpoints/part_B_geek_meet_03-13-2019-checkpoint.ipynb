{
 "cells": [
  {
   "cell_type": "markdown",
   "metadata": {},
   "source": [
    "# Explore the Data"
   ]
  },
  {
   "cell_type": "code",
   "execution_count": null,
   "metadata": {},
   "outputs": [],
   "source": [
    "import pandas as pd\n",
    "import numpy as np\n",
    "import matplotlib.pyplot as plt\n",
    "%matplotlib inline"
   ]
  },
  {
   "cell_type": "markdown",
   "metadata": {},
   "source": [
    "## Read in processed file"
   ]
  },
  {
   "cell_type": "code",
   "execution_count": null,
   "metadata": {},
   "outputs": [],
   "source": [
    "vals = pd.read_excel('../data/processed/copc_data_indus_cleaned_2019-03-12_2014.xlsx')\n",
    "vals.head()"
   ]
  },
  {
   "cell_type": "code",
   "execution_count": null,
   "metadata": {},
   "outputs": [],
   "source": [
    "vals.loc[vals['sample_id'] == 'DC-B51  2.9-4.2',:]"
   ]
  },
  {
   "cell_type": "markdown",
   "metadata": {},
   "source": [
    "## Look at summary statistics"
   ]
  },
  {
   "cell_type": "code",
   "execution_count": null,
   "metadata": {},
   "outputs": [],
   "source": [
    "vals.describe()"
   ]
  },
  {
   "cell_type": "code",
   "execution_count": null,
   "metadata": {},
   "outputs": [],
   "source": [
    "vals.columns"
   ]
  },
  {
   "cell_type": "markdown",
   "metadata": {},
   "source": [
    "## Create Scatter Plots"
   ]
  },
  {
   "cell_type": "code",
   "execution_count": null,
   "metadata": {},
   "outputs": [],
   "source": [
    "def make_graph(copc, sl):\n",
    "    xval = vals['dro']\n",
    "    yval = vals[copc]\n",
    "    fig, ax = plt.subplots(figsize=(12,8))\n",
    "    ax.plot(xval, yval, 'o', label=copc)\n",
    "    #ax.axhline(y=sl, color='r',linestyle='-')#xmin=1, xmax=100000)\n",
    "    ax.axvline(x=500, color='r',linestyle='-', label='DRO ISL')\n",
    "    ax.set_yscale('log')\n",
    "    ax.set_xscale('log')\n",
    "    ax.set_ylabel(copc + ' (ug/L)')\n",
    "    ax.set_xlabel('DRO (mg/kg)')\n",
    "    ax.set_title(copc)\n",
    "    ax.grid(b=True)"
   ]
  },
  {
   "cell_type": "code",
   "execution_count": null,
   "metadata": {},
   "outputs": [],
   "source": [
    "make_graph('Benzene', 200)\n",
    "ax = plt.gca()\n",
    "ax.axhline(y=5100, color='g', linestyle='-', label='RSL_Industrial_HQ=0.1')\n",
    "ax.axhline(y=200, color='b', linestyle='-', label='Benzene ISL')\n",
    "ax.set_ylim([.5, 10000])\n",
    "ax.legend()\n",
    "# The RSL for HQ 0.1 is the same\n",
    "plt.savefig('../reports/plots/Benzene.png')"
   ]
  },
  {
   "cell_type": "code",
   "execution_count": null,
   "metadata": {},
   "outputs": [],
   "source": [
    "make_graph('Ethylbenzene', 5000)\n",
    "ax = plt.gca()\n",
    "ax.axhline(y=25000, color='g', linestyle='-', label='RSL_Industrial_HQ=0.1')\n",
    "ax.axhline(y=5000, color='b', linestyle='-', label='Ethylbenzene ISL')\n",
    "ax.legend()\n",
    "# The RSL for HQ 0.1 is the same\n",
    "plt.savefig('../reports/plots/Ethylbenzene.png')"
   ]
  },
  {
   "cell_type": "code",
   "execution_count": null,
   "metadata": {},
   "outputs": [],
   "source": [
    "make_graph('Toluene', 9000)\n",
    "ax = plt.gca()\n",
    "ax.axhline(y=4700000, color='g', linestyle='-',label='RSL_Industrial_HQ=0.1')\n",
    "ax.axhline(y=9000, color='b', linestyle='-', label='Toluene ISL')\n",
    "ax.legend()\n",
    "# The RSL for HQ 0.1 is 4700000 and for HQ 1.0 is 47000000\n",
    "plt.savefig('../reports/plots/Toluene.png')"
   ]
  },
  {
   "cell_type": "code",
   "execution_count": null,
   "metadata": {},
   "outputs": [],
   "source": [
    "make_graph('Xylene (Total)', 142000)\n",
    "ax = plt.gca()\n",
    "ax.axhline(y=250000, color='g', linestyle='-',label='RSL_Industrial_HQ=0.1')\n",
    "ax.axhline(y=142000, color='b', linestyle='-', label='Xylenes ISL')\n",
    "# The RSL for HQ 0.1 is 250000 and for HQ 1.0 is 2500000\n",
    "ax.set_ylim([.0001, 1000000])\n",
    "ax.legend()\n",
    "plt.savefig('../reports/plots/Xylenes.png')"
   ]
  },
  {
   "cell_type": "code",
   "execution_count": null,
   "metadata": {},
   "outputs": [],
   "source": [
    "make_graph('Methyl-tert-butyl ether', 300)\n",
    "ax = plt.gca()\n",
    "ax.axhline(y=210000, color='g', linestyle='-',label='RSL_Industrial_HQ=0.1')\n",
    "ax.axhline(y=300, color='b', linestyle='-', label='MTBE ISL')\n",
    "# RSL for HQ 0.1 is 210000 (the same)\n",
    "ax.legend()\n",
    "plt.savefig('../reports/plots/MTBE.png')"
   ]
  },
  {
   "cell_type": "code",
   "execution_count": null,
   "metadata": {},
   "outputs": [],
   "source": [
    "make_graph('Naphthalene_voc', 51000)\n",
    "ax = plt.gca()\n",
    "ax.axhline(y=17000, color='g', linestyle='-',label='RSL_Industrial_HQ=0.1')\n",
    "ax.axhline(y=51000, color='b', linestyle='-', label='Naphthalene ISL')\n",
    "# RSL for HQ 0.1 is 17000 (same)\n",
    "ax.legend()\n",
    "plt.savefig('../reports/plots/Naphthalene.png')"
   ]
  },
  {
   "cell_type": "code",
   "execution_count": null,
   "metadata": {},
   "outputs": [],
   "source": [
    "make_graph('1,2-Dibromo-3-chloropropane', 64)\n",
    "ax = plt.gca()\n",
    "ax.axhline(y=64, color='g',linestyle='-',label='RSL_Industrial_HQ=0.1')\n",
    "# RSL for HQ 0.1 is 64 (same)\n",
    "ax.legend()\n",
    "plt.savefig('../reports/plots/12DB3CP.png')"
   ]
  },
  {
   "cell_type": "code",
   "execution_count": null,
   "metadata": {},
   "outputs": [],
   "source": [
    "make_graph('Benzo(a)anthracene', 21000)\n",
    "ax = plt.gca()\n",
    "ax.axhline(y=21000, color='g',linestyle='-',label='RSL_Industrial_HQ=0.1')\n",
    "# RSL for HQ 0.1 is 21000 (same)\n",
    "ax.legend()\n",
    "plt.savefig('../reports/plots/Benza.png')"
   ]
  },
  {
   "cell_type": "code",
   "execution_count": null,
   "metadata": {},
   "outputs": [],
   "source": [
    "make_graph('Benzo(a)pyrene', 2100)\n",
    "ax = plt.gca()\n",
    "ax.axhline(y=2100, color='g',linestyle='-',label='RSL_Industrial_HQ=0.1')\n",
    "# RSL for HQ 0.1 is 2100 (same)\n",
    "ax.legend()\n",
    "plt.savefig('../reports/plots/Benzop.png')"
   ]
  },
  {
   "cell_type": "code",
   "execution_count": null,
   "metadata": {},
   "outputs": [],
   "source": []
  }
 ],
 "metadata": {
  "kernelspec": {
   "display_name": "Python 3",
   "language": "python",
   "name": "python3"
  },
  "language_info": {
   "codemirror_mode": {
    "name": "ipython",
    "version": 3
   },
   "file_extension": ".py",
   "mimetype": "text/x-python",
   "name": "python",
   "nbconvert_exporter": "python",
   "pygments_lexer": "ipython3",
   "version": "3.6.7"
  }
 },
 "nbformat": 4,
 "nbformat_minor": 2
}
